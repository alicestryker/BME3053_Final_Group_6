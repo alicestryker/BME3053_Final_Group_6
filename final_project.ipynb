{
  "nbformat": 4,
  "nbformat_minor": 0,
  "metadata": {
    "colab": {
      "provenance": [],
      "authorship_tag": "ABX9TyMLqmCECh2x/t3TYyBlla8Y",
      "include_colab_link": true
    },
    "kernelspec": {
      "name": "python3",
      "display_name": "Python 3"
    },
    "language_info": {
      "name": "python"
    }
  },
  "cells": [
    {
      "cell_type": "markdown",
      "metadata": {
        "id": "view-in-github",
        "colab_type": "text"
      },
      "source": [
        "<a href=\"https://colab.research.google.com/github/alicestryker/BME3053_Final_Group_6/blob/main/final_project.ipynb\" target=\"_parent\"><img src=\"https://colab.research.google.com/assets/colab-badge.svg\" alt=\"Open In Colab\"/></a>"
      ]
    },
    {
      "cell_type": "code",
      "execution_count": null,
      "metadata": {
        "id": "IU-WgbJOc8kt"
      },
      "outputs": [],
      "source": [
        "import pandas as pd\n",
        "import numpy as np\n",
        "import matplotlib.pyplot as plt\n",
        "import seaborn as sns\n",
        "\n",
        "from sklearn.model_selection import train_test_split\n",
        "from sklearn.preprocessing import StandardScaler\n",
        "from sklearn.ensemble import RandomForestClassifier\n",
        "from sklearn.metrics import classification_report, confusion_matrix, roc_auc_score\n",
        "from xgboost import XGBClassifier\n",
        "\n",
        "# Replace 'leukemia_dataset.csv' with your dataset file name\n",
        "data = pd.read_csv('leukemia_dataset.csv')\n",
        "data.head()\n",
        "\n",
        "# Print info and check missing values\n",
        "print(data.info())\n",
        "print(data.isnull().sum())\n",
        "\n",
        "# Drop or fill missing values (simplest option)\n",
        "data = data.dropna()\n",
        "\n",
        "# Separate features and target\n",
        "X = data.drop('leukemia', axis=1)  # change 'leukemia' if your label has a different name\n",
        "y = data['leukemia']\n",
        "\n",
        "# Normalize features\n",
        "scaler = StandardScaler()\n",
        "X_scaled = scaler.fit_transform(X)\n",
        "\n",
        "# ✂️ 4. Split Dataset\n",
        "X_train, X_test, y_train, y_test = train_test_split(\n",
        "    X_scaled, y, test_size=0.2, random_state=42, stratify=y\n",
        ")\n",
        "python\n",
        "Copy\n",
        "Edit\n",
        "# 🌲 5. Train a RandomForest Classifier\n",
        "rf_model = RandomForestClassifier(n_estimators=100, random_state=42)\n",
        "rf_model.fit(X_train, y_train)\n",
        "python\n",
        "Copy\n",
        "Edit\n",
        "# 🚀 6. Predict and Evaluate\n",
        "y_pred = rf_model.predict(X_test)\n",
        "\n",
        "print(\"Confusion Matrix:\")\n",
        "print(confusion_matrix(y_test, y_pred))\n",
        "print(\"\\nClassification Report:\")\n",
        "print(classification_report(y_test, y_pred))\n",
        "print(\"\\nROC AUC Score:\")\n",
        "print(roc_auc_score(y_test, rf_model.predict_proba(X_test)[:, 1]))\n",
        "python\n",
        "Copy\n",
        "Edit\n",
        "# 🌟 7. Feature Importance (Optional)\n",
        "importances = rf_model.feature_importances_\n",
        "feature_names = X.columns if isinstance(X, pd.DataFrame) else [f\"Feature {i}\" for i in range(X.shape[1])]\n",
        "\n",
        "feat_imp_df = pd.DataFrame({'Feature': feature_names, 'Importance': importances})\n",
        "feat_imp_df = feat_imp_df.sort_values('Importance', ascending=False)\n",
        "\n",
        "plt.figure(figsize=(10, 6))\n",
        "sns.barplot(x='Importance', y='Feature', data=feat_imp_df.head(20))\n",
        "plt.title('Top 20 Feature Importances')\n",
        "plt.show()\n",
        "python\n",
        "Copy\n",
        "Edit\n",
        "# 💾 8. Save Model\n",
        "joblib.dump(rf_model, 'leukemia_model.pkl')\n",
        "python\n",
        "Copy\n",
        "Edit\n",
        "# ✅ 9. Load & Use Saved Model\n",
        "loaded_model = joblib.load('leukemia_model.pkl')\n",
        "\n",
        "# Predict on new scaled data (e.g., new_patient_scaled)\n",
        "# new_prediction = loaded_model.predict(new_patient_scaled)"
      ]
    }
  ]
}